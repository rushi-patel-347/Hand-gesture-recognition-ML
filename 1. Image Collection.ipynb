{
 "cells": [
  {
   "cell_type": "markdown",
   "metadata": {},
   "source": [
    "# 1. Import Dependencies"
   ]
  },
  {
   "cell_type": "code",
   "execution_count": 34,
   "metadata": {},
   "outputs": [
    {
     "name": "stdout",
     "output_type": "stream",
     "text": [
      "Requirement already satisfied: opencv-python in c:\\users\\jaivardhan singh\\tfodcourse\\tfod\\lib\\site-packages (4.6.0.66)\n",
      "Requirement already satisfied: numpy>=1.17.3 in c:\\users\\jaivardhan singh\\tfodcourse\\tfod\\lib\\site-packages (from opencv-python) (1.23.1)\n"
     ]
    }
   ],
   "source": [
    "!pip install opencv-python"
   ]
  },
  {
   "cell_type": "code",
   "execution_count": 35,
   "metadata": {},
   "outputs": [],
   "source": [
    "# Import opencv\n",
    "import cv2 \n",
    "\n",
    "# Import uuid\n",
    "import uuid\n",
    "\n",
    "# Import Operating System\n",
    "import os\n",
    "\n",
    "# Import time\n",
    "import time"
   ]
  },
  {
   "cell_type": "markdown",
   "metadata": {},
   "source": [
    "# 2. Define Images to Collect"
   ]
  },
  {
   "cell_type": "code",
   "execution_count": 36,
   "metadata": {},
   "outputs": [],
   "source": [
    "labels = ['ThumbsUp', 'ThumbsDown', 'Wow', 'LiveLong', 'ILoveYou', 'Hello']\n",
    "number_imgs = 20"
   ]
  },
  {
   "cell_type": "markdown",
   "metadata": {},
   "source": [
    "# 3. Setup Folders "
   ]
  },
  {
   "cell_type": "code",
   "execution_count": 37,
   "metadata": {},
   "outputs": [],
   "source": [
    "IMAGES_PATH = os.path.join('Tensorflow', 'workspace', 'images', 'collectedimages')"
   ]
  },
  {
   "cell_type": "code",
   "execution_count": 38,
   "metadata": {},
   "outputs": [],
   "source": [
    "if not os.path.exists(IMAGES_PATH):\n",
    "    if os.name == 'posix':\n",
    "        !mkdir -p {IMAGES_PATH}\n",
    "    if os.name == 'nt':\n",
    "         !mkdir {IMAGES_PATH}\n",
    "for label in labels:\n",
    "    path = os.path.join(IMAGES_PATH, label)\n",
    "    if not os.path.exists(path):\n",
    "        !mkdir {path}"
   ]
  },
  {
   "cell_type": "markdown",
   "metadata": {},
   "source": [
    "# 4. Capture Images"
   ]
  },
  {
   "cell_type": "code",
   "execution_count": 39,
   "metadata": {},
   "outputs": [
    {
     "name": "stdout",
     "output_type": "stream",
     "text": [
      "Collecting images for ThumbsUp\n",
      "Collecting image 0\n",
      "Collecting image 1\n",
      "Collecting image 2\n",
      "Collecting image 3\n",
      "Collecting image 4\n",
      "Collecting image 5\n",
      "Collecting image 6\n",
      "Collecting image 7\n",
      "Collecting image 8\n",
      "Collecting image 9\n",
      "Collecting image 10\n",
      "Collecting image 11\n",
      "Collecting image 12\n",
      "Collecting image 13\n",
      "Collecting image 14\n",
      "Collecting image 15\n",
      "Collecting image 16\n",
      "Collecting image 17\n",
      "Collecting image 18\n",
      "Collecting image 19\n",
      "Collecting images for ThumbsDown\n",
      "Collecting image 0\n",
      "Collecting image 1\n",
      "Collecting image 2\n",
      "Collecting image 3\n",
      "Collecting image 4\n",
      "Collecting image 5\n",
      "Collecting image 6\n",
      "Collecting image 7\n",
      "Collecting image 8\n",
      "Collecting image 9\n",
      "Collecting image 10\n",
      "Collecting image 11\n",
      "Collecting image 12\n",
      "Collecting image 13\n",
      "Collecting image 14\n",
      "Collecting image 15\n",
      "Collecting image 16\n",
      "Collecting image 17\n",
      "Collecting image 18\n",
      "Collecting image 19\n",
      "Collecting images for Wow\n",
      "Collecting image 0\n",
      "Collecting image 1\n",
      "Collecting image 2\n",
      "Collecting image 3\n",
      "Collecting image 4\n",
      "Collecting image 5\n",
      "Collecting image 6\n",
      "Collecting image 7\n",
      "Collecting image 8\n",
      "Collecting image 9\n",
      "Collecting image 10\n",
      "Collecting image 11\n",
      "Collecting image 12\n",
      "Collecting image 13\n",
      "Collecting image 14\n",
      "Collecting image 15\n",
      "Collecting image 16\n",
      "Collecting image 17\n",
      "Collecting image 18\n",
      "Collecting image 19\n",
      "Collecting images for LiveLong\n",
      "Collecting image 0\n",
      "Collecting image 1\n",
      "Collecting image 2\n",
      "Collecting image 3\n",
      "Collecting image 4\n",
      "Collecting image 5\n",
      "Collecting image 6\n",
      "Collecting image 7\n",
      "Collecting image 8\n",
      "Collecting image 9\n",
      "Collecting image 10\n",
      "Collecting image 11\n",
      "Collecting image 12\n",
      "Collecting image 13\n",
      "Collecting image 14\n",
      "Collecting image 15\n",
      "Collecting image 16\n",
      "Collecting image 17\n",
      "Collecting image 18\n",
      "Collecting image 19\n",
      "Collecting images for ILoveYou\n",
      "Collecting image 0\n",
      "Collecting image 1\n",
      "Collecting image 2\n",
      "Collecting image 3\n",
      "Collecting image 4\n",
      "Collecting image 5\n",
      "Collecting image 6\n",
      "Collecting image 7\n",
      "Collecting image 8\n",
      "Collecting image 9\n",
      "Collecting image 10\n",
      "Collecting image 11\n",
      "Collecting image 12\n",
      "Collecting image 13\n",
      "Collecting image 14\n",
      "Collecting image 15\n",
      "Collecting image 16\n",
      "Collecting image 17\n",
      "Collecting image 18\n",
      "Collecting image 19\n",
      "Collecting images for Hello\n",
      "Collecting image 0\n",
      "Collecting image 1\n",
      "Collecting image 2\n",
      "Collecting image 3\n",
      "Collecting image 4\n",
      "Collecting image 5\n",
      "Collecting image 6\n",
      "Collecting image 7\n",
      "Collecting image 8\n",
      "Collecting image 9\n",
      "Collecting image 10\n",
      "Collecting image 11\n",
      "Collecting image 12\n",
      "Collecting image 13\n",
      "Collecting image 14\n",
      "Collecting image 15\n",
      "Collecting image 16\n",
      "Collecting image 17\n",
      "Collecting image 18\n",
      "Collecting image 19\n"
     ]
    }
   ],
   "source": [
    "for label in labels:\n",
    "    cap = cv2.VideoCapture(0)\n",
    "    print('Collecting images for {}'.format(label))\n",
    "    time.sleep(5)\n",
    "    for imgnum in range(number_imgs):\n",
    "        print('Collecting image {}'.format(imgnum))\n",
    "        ret, frame = cap.read()\n",
    "        imgname = os.path.join(IMAGES_PATH,label,label+'.'+'{}.jpg'.format(str(uuid.uuid1())))\n",
    "        cv2.imwrite(imgname, frame)\n",
    "        cv2.imshow('frame', frame)\n",
    "        time.sleep(2)\n",
    "\n",
    "        if cv2.waitKey(1) & 0xFF == ord('q'):\n",
    "            break\n",
    "cap.release()\n",
    "cv2.destroyAllWindows()"
   ]
  },
  {
   "cell_type": "markdown",
   "metadata": {},
   "source": [
    "# 5. Image Labelling"
   ]
  },
  {
   "cell_type": "code",
   "execution_count": 40,
   "metadata": {},
   "outputs": [
    {
     "name": "stdout",
     "output_type": "stream",
     "text": [
      "Requirement already satisfied: pyqt5 in c:\\users\\jaivardhan singh\\tfodcourse\\tfod\\lib\\site-packages (5.15.7)\n",
      "Requirement already satisfied: lxml in c:\\users\\jaivardhan singh\\tfodcourse\\tfod\\lib\\site-packages (4.9.1)\n",
      "Requirement already satisfied: PyQt5-sip<13,>=12.11 in c:\\users\\jaivardhan singh\\tfodcourse\\tfod\\lib\\site-packages (from pyqt5) (12.11.0)\n",
      "Requirement already satisfied: PyQt5-Qt5>=5.15.0 in c:\\users\\jaivardhan singh\\tfodcourse\\tfod\\lib\\site-packages (from pyqt5) (5.15.2)\n"
     ]
    }
   ],
   "source": [
    "!pip install --upgrade pyqt5 lxml"
   ]
  },
  {
   "cell_type": "code",
   "execution_count": 41,
   "metadata": {},
   "outputs": [],
   "source": [
    "LABELIMG_PATH = os.path.join('Tensorflow', 'labelimg')"
   ]
  },
  {
   "cell_type": "code",
   "execution_count": 16,
   "metadata": {},
   "outputs": [
    {
     "name": "stderr",
     "output_type": "stream",
     "text": [
      "'git' is not recognized as an internal or external command,\n",
      "operable program or batch file.\n"
     ]
    }
   ],
   "source": [
    "if not os.path.exists(LABELIMG_PATH):\n",
    "    !mkdir {LABELIMG_PATH}\n",
    "    !git clone https://github.com/tzutalin/labelImg {LABELIMG_PATH}"
   ]
  },
  {
   "cell_type": "code",
   "execution_count": 42,
   "metadata": {},
   "outputs": [],
   "source": [
    "if os.name == 'posix':\n",
    "    !cd {LABELIMG_PATH} && make qt5py3\n",
    "if os.name =='nt':\n",
    "    !cd {LABELIMG_PATH} && pyrcc5 -o libs/resources.py resources.qrc"
   ]
  },
  {
   "cell_type": "code",
   "execution_count": 43,
   "metadata": {},
   "outputs": [
    {
     "name": "stdout",
     "output_type": "stream",
     "text": [
      "Image:C:\\Users\\Jaivardhan Singh\\TFODCourse\\Tensorflow\\workspace\\images\\collectedimages\\Hello\\Hello.e8b089eb-19f1-11ed-8739-ccd9ac47bde5.jpg -> Annotation:C:/Users/Jaivardhan Singh/TFODCourse/Tensorflow/workspace/images/collectedimages/Hello\\Hello.e8b089eb-19f1-11ed-8739-ccd9ac47bde5.xml\n",
      "Image:C:\\Users\\Jaivardhan Singh\\TFODCourse\\Tensorflow\\workspace\\images\\collectedimages\\Hello\\Hello.e9e56362-19f1-11ed-8e84-ccd9ac47bde5.jpg -> Annotation:C:/Users/Jaivardhan Singh/TFODCourse/Tensorflow/workspace/images/collectedimages/Hello\\Hello.e9e56362-19f1-11ed-8e84-ccd9ac47bde5.xml\n",
      "Image:C:\\Users\\Jaivardhan Singh\\TFODCourse\\Tensorflow\\workspace\\images\\collectedimages\\Hello\\Hello.e77acd47-19f1-11ed-874f-ccd9ac47bde5.jpg -> Annotation:C:/Users/Jaivardhan Singh/TFODCourse/Tensorflow/workspace/images/collectedimages/Hello\\Hello.e77acd47-19f1-11ed-874f-ccd9ac47bde5.xml\n",
      "Image:C:\\Users\\Jaivardhan Singh\\TFODCourse\\Tensorflow\\workspace\\images\\collectedimages\\Hello\\Hello.e5138719-19f1-11ed-9bbb-ccd9ac47bde5.jpg -> Annotation:C:/Users/Jaivardhan Singh/TFODCourse/Tensorflow/workspace/images/collectedimages/Hello\\Hello.e5138719-19f1-11ed-9bbb-ccd9ac47bde5.xml\n",
      "Image:C:\\Users\\Jaivardhan Singh\\TFODCourse\\Tensorflow\\workspace\\images\\collectedimages\\Hello\\Hello.e6481350-19f1-11ed-8f28-ccd9ac47bde5.jpg -> Annotation:C:/Users/Jaivardhan Singh/TFODCourse/Tensorflow/workspace/images/collectedimages/Hello\\Hello.e6481350-19f1-11ed-8f28-ccd9ac47bde5.xml\n",
      "Image:C:\\Users\\Jaivardhan Singh\\TFODCourse\\Tensorflow\\workspace\\images\\collectedimages\\Hello\\Hello.eb18254e-19f1-11ed-a485-ccd9ac47bde5.jpg -> Annotation:C:/Users/Jaivardhan Singh/TFODCourse/Tensorflow/workspace/images/collectedimages/Hello\\Hello.eb18254e-19f1-11ed-a485-ccd9ac47bde5.xml\n",
      "Image:C:\\Users\\Jaivardhan Singh\\TFODCourse\\Tensorflow\\workspace\\images\\collectedimages\\Hello\\Hello.ec4a243f-19f1-11ed-b025-ccd9ac47bde5.jpg -> Annotation:C:/Users/Jaivardhan Singh/TFODCourse/Tensorflow/workspace/images/collectedimages/Hello\\Hello.ec4a243f-19f1-11ed-b025-ccd9ac47bde5.xml\n",
      "Image:C:\\Users\\Jaivardhan Singh\\TFODCourse\\Tensorflow\\workspace\\images\\collectedimages\\Hello\\Hello.ed7d07fe-19f1-11ed-b0dd-ccd9ac47bde5.jpg -> Annotation:C:/Users/Jaivardhan Singh/TFODCourse/Tensorflow/workspace/images/collectedimages/Hello\\Hello.ed7d07fe-19f1-11ed-b0dd-ccd9ac47bde5.xml\n",
      "Image:C:\\Users\\Jaivardhan Singh\\TFODCourse\\Tensorflow\\workspace\\images\\collectedimages\\Hello\\Hello.eeb008b3-19f1-11ed-b4b1-ccd9ac47bde5.jpg -> Annotation:C:/Users/Jaivardhan Singh/TFODCourse/Tensorflow/workspace/images/collectedimages/Hello\\Hello.eeb008b3-19f1-11ed-b4b1-ccd9ac47bde5.xml\n",
      "Image:C:\\Users\\Jaivardhan Singh\\TFODCourse\\Tensorflow\\workspace\\images\\collectedimages\\Hello\\Hello.efe4fb05-19f1-11ed-9d0e-ccd9ac47bde5.jpg -> Annotation:C:/Users/Jaivardhan Singh/TFODCourse/Tensorflow/workspace/images/collectedimages/Hello\\Hello.efe4fb05-19f1-11ed-9d0e-ccd9ac47bde5.xml\n",
      "Image:C:\\Users\\Jaivardhan Singh\\TFODCourse\\Tensorflow\\workspace\\images\\collectedimages\\Hello\\Hello.f4bb1396-19f1-11ed-817e-ccd9ac47bde5.jpg -> Annotation:C:/Users/Jaivardhan Singh/TFODCourse/Tensorflow/workspace/images/collectedimages/Hello\\Hello.f4bb1396-19f1-11ed-817e-ccd9ac47bde5.xml\n",
      "Image:C:\\Users\\Jaivardhan Singh\\TFODCourse\\Tensorflow\\workspace\\images\\collectedimages\\Hello\\Hello.f5ef42ab-19f1-11ed-8244-ccd9ac47bde5.jpg -> Annotation:C:/Users/Jaivardhan Singh/TFODCourse/Tensorflow/workspace/images/collectedimages/Hello\\Hello.f5ef42ab-19f1-11ed-8244-ccd9ac47bde5.xml\n",
      "Image:C:\\Users\\Jaivardhan Singh\\TFODCourse\\Tensorflow\\workspace\\images\\collectedimages\\Hello\\Hello.f11a21da-19f1-11ed-bee9-ccd9ac47bde5.jpg -> Annotation:C:/Users/Jaivardhan Singh/TFODCourse/Tensorflow/workspace/images/collectedimages/Hello\\Hello.f11a21da-19f1-11ed-bee9-ccd9ac47bde5.xml\n",
      "Image:C:\\Users\\Jaivardhan Singh\\TFODCourse\\Tensorflow\\workspace\\images\\collectedimages\\Hello\\Hello.f98d0fa2-19f1-11ed-9529-ccd9ac47bde5.jpg -> Annotation:C:/Users/Jaivardhan Singh/TFODCourse/Tensorflow/workspace/images/collectedimages/Hello\\Hello.f98d0fa2-19f1-11ed-9529-ccd9ac47bde5.xml\n",
      "Image:C:\\Users\\Jaivardhan Singh\\TFODCourse\\Tensorflow\\workspace\\images\\collectedimages\\Hello\\Hello.f384c338-19f1-11ed-a7cc-ccd9ac47bde5.jpg -> Annotation:C:/Users/Jaivardhan Singh/TFODCourse/Tensorflow/workspace/images/collectedimages/Hello\\Hello.f384c338-19f1-11ed-a7cc-ccd9ac47bde5.xml\n",
      "Image:C:\\Users\\Jaivardhan Singh\\TFODCourse\\Tensorflow\\workspace\\images\\collectedimages\\Hello\\Hello.f859432c-19f1-11ed-aaff-ccd9ac47bde5.jpg -> Annotation:C:/Users/Jaivardhan Singh/TFODCourse/Tensorflow/workspace/images/collectedimages/Hello\\Hello.f859432c-19f1-11ed-aaff-ccd9ac47bde5.xml\n",
      "Image:C:\\Users\\Jaivardhan Singh\\TFODCourse\\Tensorflow\\workspace\\images\\collectedimages\\Hello\\Hello.fac2397e-19f1-11ed-b90f-ccd9ac47bde5.jpg -> Annotation:C:/Users/Jaivardhan Singh/TFODCourse/Tensorflow/workspace/images/collectedimages/Hello\\Hello.fac2397e-19f1-11ed-b90f-ccd9ac47bde5.xml\n",
      "Image:C:\\Users\\Jaivardhan Singh\\TFODCourse\\Tensorflow\\workspace\\images\\collectedimages\\ILoveYou\\ILoveYou.bad4b540-19f1-11ed-8db2-ccd9ac47bde5.jpg -> Annotation:C:/Users/Jaivardhan Singh/TFODCourse/Tensorflow/workspace/images/collectedimages/ILoveYou\\ILoveYou.bad4b540-19f1-11ed-8db2-ccd9ac47bde5.xml\n",
      "Image:C:\\Users\\Jaivardhan Singh\\TFODCourse\\Tensorflow\\workspace\\images\\collectedimages\\ILoveYou\\ILoveYou.bc093516-19f1-11ed-ad7c-ccd9ac47bde5.jpg -> Annotation:C:/Users/Jaivardhan Singh/TFODCourse/Tensorflow/workspace/images/collectedimages/ILoveYou\\ILoveYou.bc093516-19f1-11ed-ad7c-ccd9ac47bde5.xml\n",
      "Image:C:\\Users\\Jaivardhan Singh\\TFODCourse\\Tensorflow\\workspace\\images\\collectedimages\\ILoveYou\\ILoveYou.bd3d3ad4-19f1-11ed-9923-ccd9ac47bde5.jpg -> Annotation:C:/Users/Jaivardhan Singh/TFODCourse/Tensorflow/workspace/images/collectedimages/ILoveYou\\ILoveYou.bd3d3ad4-19f1-11ed-9923-ccd9ac47bde5.xml\n",
      "Image:C:\\Users\\Jaivardhan Singh\\TFODCourse\\Tensorflow\\workspace\\images\\collectedimages\\ILoveYou\\ILoveYou.be73896a-19f1-11ed-b4b4-ccd9ac47bde5.jpg -> Annotation:C:/Users/Jaivardhan Singh/TFODCourse/Tensorflow/workspace/images/collectedimages/ILoveYou\\ILoveYou.be73896a-19f1-11ed-b4b4-ccd9ac47bde5.xml\n",
      "Image:C:\\Users\\Jaivardhan Singh\\TFODCourse\\Tensorflow\\workspace\\images\\collectedimages\\ILoveYou\\ILoveYou.bfa81caf-19f1-11ed-a740-ccd9ac47bde5.jpg -> Annotation:C:/Users/Jaivardhan Singh/TFODCourse/Tensorflow/workspace/images/collectedimages/ILoveYou\\ILoveYou.bfa81caf-19f1-11ed-a740-ccd9ac47bde5.xml\n",
      "Image:C:\\Users\\Jaivardhan Singh\\TFODCourse\\Tensorflow\\workspace\\images\\collectedimages\\ILoveYou\\ILoveYou.c0dc3222-19f1-11ed-bca3-ccd9ac47bde5.jpg -> Annotation:C:/Users/Jaivardhan Singh/TFODCourse/Tensorflow/workspace/images/collectedimages/ILoveYou\\ILoveYou.c0dc3222-19f1-11ed-bca3-ccd9ac47bde5.xml\n",
      "Image:C:\\Users\\Jaivardhan Singh\\TFODCourse\\Tensorflow\\workspace\\images\\collectedimages\\ILoveYou\\ILoveYou.c5ababfb-19f1-11ed-97e1-ccd9ac47bde5.jpg -> Annotation:C:/Users/Jaivardhan Singh/TFODCourse/Tensorflow/workspace/images/collectedimages/ILoveYou\\ILoveYou.c5ababfb-19f1-11ed-97e1-ccd9ac47bde5.xml\n",
      "Image:C:\\Users\\Jaivardhan Singh\\TFODCourse\\Tensorflow\\workspace\\images\\collectedimages\\ILoveYou\\ILoveYou.c6e0884d-19f1-11ed-8961-ccd9ac47bde5.jpg -> Annotation:C:/Users/Jaivardhan Singh/TFODCourse/Tensorflow/workspace/images/collectedimages/ILoveYou\\ILoveYou.c6e0884d-19f1-11ed-8961-ccd9ac47bde5.xml\n",
      "Image:C:\\Users\\Jaivardhan Singh\\TFODCourse\\Tensorflow\\workspace\\images\\collectedimages\\ILoveYou\\ILoveYou.c94a1739-19f1-11ed-986d-ccd9ac47bde5.jpg -> Annotation:C:/Users/Jaivardhan Singh/TFODCourse/Tensorflow/workspace/images/collectedimages/ILoveYou\\ILoveYou.c94a1739-19f1-11ed-986d-ccd9ac47bde5.xml\n",
      "Image:C:\\Users\\Jaivardhan Singh\\TFODCourse\\Tensorflow\\workspace\\images\\collectedimages\\ILoveYou\\ILoveYou.c211ad12-19f1-11ed-8913-ccd9ac47bde5.jpg -> Annotation:C:/Users/Jaivardhan Singh/TFODCourse/Tensorflow/workspace/images/collectedimages/ILoveYou\\ILoveYou.c211ad12-19f1-11ed-8913-ccd9ac47bde5.xml\n",
      "Image:C:\\Users\\Jaivardhan Singh\\TFODCourse\\Tensorflow\\workspace\\images\\collectedimages\\ILoveYou\\ILoveYou.c479e41f-19f1-11ed-9072-ccd9ac47bde5.jpg -> Annotation:C:/Users/Jaivardhan Singh/TFODCourse/Tensorflow/workspace/images/collectedimages/ILoveYou\\ILoveYou.c479e41f-19f1-11ed-9072-ccd9ac47bde5.xml\n",
      "Image:C:\\Users\\Jaivardhan Singh\\TFODCourse\\Tensorflow\\workspace\\images\\collectedimages\\ILoveYou\\ILoveYou.c34457b2-19f1-11ed-9729-ccd9ac47bde5.jpg -> Annotation:C:/Users/Jaivardhan Singh/TFODCourse/Tensorflow/workspace/images/collectedimages/ILoveYou\\ILoveYou.c34457b2-19f1-11ed-9729-ccd9ac47bde5.xml\n",
      "Image:C:\\Users\\Jaivardhan Singh\\TFODCourse\\Tensorflow\\workspace\\images\\collectedimages\\ILoveYou\\ILoveYou.c81529d3-19f1-11ed-87bb-ccd9ac47bde5.jpg -> Annotation:C:/Users/Jaivardhan Singh/TFODCourse/Tensorflow/workspace/images/collectedimages/ILoveYou\\ILoveYou.c81529d3-19f1-11ed-87bb-ccd9ac47bde5.xml\n",
      "Image:C:\\Users\\Jaivardhan Singh\\TFODCourse\\Tensorflow\\workspace\\images\\collectedimages\\ILoveYou\\ILoveYou.ca7bf0fc-19f1-11ed-a6bb-ccd9ac47bde5.jpg -> Annotation:C:/Users/Jaivardhan Singh/TFODCourse/Tensorflow/workspace/images/collectedimages/ILoveYou\\ILoveYou.ca7bf0fc-19f1-11ed-a6bb-ccd9ac47bde5.xml\n",
      "Image:C:\\Users\\Jaivardhan Singh\\TFODCourse\\Tensorflow\\workspace\\images\\collectedimages\\ILoveYou\\ILoveYou.cbb12604-19f1-11ed-8024-ccd9ac47bde5.jpg -> Annotation:C:/Users/Jaivardhan Singh/TFODCourse/Tensorflow/workspace/images/collectedimages/ILoveYou\\ILoveYou.cbb12604-19f1-11ed-8024-ccd9ac47bde5.xml\n",
      "Image:C:\\Users\\Jaivardhan Singh\\TFODCourse\\Tensorflow\\workspace\\images\\collectedimages\\ILoveYou\\ILoveYou.cce60d95-19f1-11ed-9135-ccd9ac47bde5.jpg -> Annotation:C:/Users/Jaivardhan Singh/TFODCourse/Tensorflow/workspace/images/collectedimages/ILoveYou\\ILoveYou.cce60d95-19f1-11ed-9135-ccd9ac47bde5.xml\n",
      "Image:C:\\Users\\Jaivardhan Singh\\TFODCourse\\Tensorflow\\workspace\\images\\collectedimages\\ILoveYou\\ILoveYou.ce18c418-19f1-11ed-995f-ccd9ac47bde5.jpg -> Annotation:C:/Users/Jaivardhan Singh/TFODCourse/Tensorflow/workspace/images/collectedimages/ILoveYou\\ILoveYou.ce18c418-19f1-11ed-995f-ccd9ac47bde5.xml\n",
      "Image:C:\\Users\\Jaivardhan Singh\\TFODCourse\\Tensorflow\\workspace\\images\\collectedimages\\ILoveYou\\ILoveYou.cf4f20b6-19f1-11ed-ba42-ccd9ac47bde5.jpg -> Annotation:C:/Users/Jaivardhan Singh/TFODCourse/Tensorflow/workspace/images/collectedimages/ILoveYou\\ILoveYou.cf4f20b6-19f1-11ed-ba42-ccd9ac47bde5.xml\n",
      "Image:C:\\Users\\Jaivardhan Singh\\TFODCourse\\Tensorflow\\workspace\\images\\collectedimages\\ILoveYou\\ILoveYou.d083148e-19f1-11ed-917c-ccd9ac47bde5.jpg -> Annotation:C:/Users/Jaivardhan Singh/TFODCourse/Tensorflow/workspace/images/collectedimages/ILoveYou\\ILoveYou.d083148e-19f1-11ed-917c-ccd9ac47bde5.xml\n",
      "Image:C:\\Users\\Jaivardhan Singh\\TFODCourse\\Tensorflow\\workspace\\images\\collectedimages\\LiveLong\\LiveLong.9a313064-19f1-11ed-9d03-ccd9ac47bde5.jpg -> Annotation:C:/Users/Jaivardhan Singh/TFODCourse/Tensorflow/workspace/images/collectedimages/LiveLong\\LiveLong.9a313064-19f1-11ed-9d03-ccd9ac47bde5.xml\n",
      "Image:C:\\Users\\Jaivardhan Singh\\TFODCourse\\Tensorflow\\workspace\\images\\collectedimages\\LiveLong\\LiveLong.9b642d90-19f1-11ed-8ba8-ccd9ac47bde5.jpg -> Annotation:C:/Users/Jaivardhan Singh/TFODCourse/Tensorflow/workspace/images/collectedimages/LiveLong\\LiveLong.9b642d90-19f1-11ed-8ba8-ccd9ac47bde5.xml\n",
      "Image:C:\\Users\\Jaivardhan Singh\\TFODCourse\\Tensorflow\\workspace\\images\\collectedimages\\LiveLong\\LiveLong.9c95fddf-19f1-11ed-86a1-ccd9ac47bde5.jpg -> Annotation:C:/Users/Jaivardhan Singh/TFODCourse/Tensorflow/workspace/images/collectedimages/LiveLong\\LiveLong.9c95fddf-19f1-11ed-86a1-ccd9ac47bde5.xml\n",
      "Image:C:\\Users\\Jaivardhan Singh\\TFODCourse\\Tensorflow\\workspace\\images\\collectedimages\\LiveLong\\LiveLong.9dcaf504-19f1-11ed-8a0b-ccd9ac47bde5.jpg -> Annotation:C:/Users/Jaivardhan Singh/TFODCourse/Tensorflow/workspace/images/collectedimages/LiveLong\\LiveLong.9dcaf504-19f1-11ed-8a0b-ccd9ac47bde5.xml\n",
      "Image:C:\\Users\\Jaivardhan Singh\\TFODCourse\\Tensorflow\\workspace\\images\\collectedimages\\LiveLong\\LiveLong.9efdafb9-19f1-11ed-ac46-ccd9ac47bde5.jpg -> Annotation:C:/Users/Jaivardhan Singh/TFODCourse/Tensorflow/workspace/images/collectedimages/LiveLong\\LiveLong.9efdafb9-19f1-11ed-ac46-ccd9ac47bde5.xml\n",
      "Image:C:\\Users\\Jaivardhan Singh\\TFODCourse\\Tensorflow\\workspace\\images\\collectedimages\\LiveLong\\LiveLong.91c17cae-19f1-11ed-a2bd-ccd9ac47bde5.jpg -> Annotation:C:/Users/Jaivardhan Singh/TFODCourse/Tensorflow/workspace/images/collectedimages/LiveLong\\LiveLong.91c17cae-19f1-11ed-a2bd-ccd9ac47bde5.xml\n",
      "Image:C:\\Users\\Jaivardhan Singh\\TFODCourse\\Tensorflow\\workspace\\images\\collectedimages\\LiveLong\\LiveLong.92f69cff-19f1-11ed-aa98-ccd9ac47bde5.jpg -> Annotation:C:/Users/Jaivardhan Singh/TFODCourse/Tensorflow/workspace/images/collectedimages/LiveLong\\LiveLong.92f69cff-19f1-11ed-aa98-ccd9ac47bde5.xml\n",
      "Image:C:\\Users\\Jaivardhan Singh\\TFODCourse\\Tensorflow\\workspace\\images\\collectedimages\\LiveLong\\LiveLong.97c71256-19f1-11ed-96ae-ccd9ac47bde5.jpg -> Annotation:C:/Users/Jaivardhan Singh/TFODCourse/Tensorflow/workspace/images/collectedimages/LiveLong\\LiveLong.97c71256-19f1-11ed-96ae-ccd9ac47bde5.xml\n",
      "Image:C:\\Users\\Jaivardhan Singh\\TFODCourse\\Tensorflow\\workspace\\images\\collectedimages\\LiveLong\\LiveLong.98fc1490-19f1-11ed-9e87-ccd9ac47bde5.jpg -> Annotation:C:/Users/Jaivardhan Singh/TFODCourse/Tensorflow/workspace/images/collectedimages/LiveLong\\LiveLong.98fc1490-19f1-11ed-9e87-ccd9ac47bde5.xml\n",
      "Image:C:\\Users\\Jaivardhan Singh\\TFODCourse\\Tensorflow\\workspace\\images\\collectedimages\\LiveLong\\LiveLong.908d096d-19f1-11ed-b149-ccd9ac47bde5.jpg -> Annotation:C:/Users/Jaivardhan Singh/TFODCourse/Tensorflow/workspace/images/collectedimages/LiveLong\\LiveLong.908d096d-19f1-11ed-b149-ccd9ac47bde5.xml\n",
      "Image:C:\\Users\\Jaivardhan Singh\\TFODCourse\\Tensorflow\\workspace\\images\\collectedimages\\LiveLong\\LiveLong.942c1ae7-19f1-11ed-a67f-ccd9ac47bde5.jpg -> Annotation:C:/Users/Jaivardhan Singh/TFODCourse/Tensorflow/workspace/images/collectedimages/LiveLong\\LiveLong.942c1ae7-19f1-11ed-a67f-ccd9ac47bde5.xml\n",
      "Image:C:\\Users\\Jaivardhan Singh\\TFODCourse\\Tensorflow\\workspace\\images\\collectedimages\\LiveLong\\LiveLong.956068a4-19f1-11ed-8cdf-ccd9ac47bde5.jpg -> Annotation:C:/Users/Jaivardhan Singh/TFODCourse/Tensorflow/workspace/images/collectedimages/LiveLong\\LiveLong.956068a4-19f1-11ed-8cdf-ccd9ac47bde5.xml\n",
      "Image:C:\\Users\\Jaivardhan Singh\\TFODCourse\\Tensorflow\\workspace\\images\\collectedimages\\LiveLong\\LiveLong.969493f0-19f1-11ed-8199-ccd9ac47bde5.jpg -> Annotation:C:/Users/Jaivardhan Singh/TFODCourse/Tensorflow/workspace/images/collectedimages/LiveLong\\LiveLong.969493f0-19f1-11ed-8199-ccd9ac47bde5.xml\n",
      "Image:C:\\Users\\Jaivardhan Singh\\TFODCourse\\Tensorflow\\workspace\\images\\collectedimages\\LiveLong\\LiveLong.a3cec975-19f1-11ed-acc1-ccd9ac47bde5.jpg -> Annotation:C:/Users/Jaivardhan Singh/TFODCourse/Tensorflow/workspace/images/collectedimages/LiveLong\\LiveLong.a3cec975-19f1-11ed-acc1-ccd9ac47bde5.xml\n",
      "Image:C:\\Users\\Jaivardhan Singh\\TFODCourse\\Tensorflow\\workspace\\images\\collectedimages\\LiveLong\\LiveLong.a29ac025-19f1-11ed-844d-ccd9ac47bde5.jpg -> Annotation:C:/Users/Jaivardhan Singh/TFODCourse/Tensorflow/workspace/images/collectedimages/LiveLong\\LiveLong.a29ac025-19f1-11ed-844d-ccd9ac47bde5.xml\n",
      "Image:C:\\Users\\Jaivardhan Singh\\TFODCourse\\Tensorflow\\workspace\\images\\collectedimages\\LiveLong\\LiveLong.a031b7cf-19f1-11ed-830f-ccd9ac47bde5.jpg -> Annotation:C:/Users/Jaivardhan Singh/TFODCourse/Tensorflow/workspace/images/collectedimages/LiveLong\\LiveLong.a031b7cf-19f1-11ed-830f-ccd9ac47bde5.xml\n",
      "Image:C:\\Users\\Jaivardhan Singh\\TFODCourse\\Tensorflow\\workspace\\images\\collectedimages\\LiveLong\\LiveLong.a167c8d7-19f1-11ed-a676-ccd9ac47bde5.jpg -> Annotation:C:/Users/Jaivardhan Singh/TFODCourse/Tensorflow/workspace/images/collectedimages/LiveLong\\LiveLong.a167c8d7-19f1-11ed-a676-ccd9ac47bde5.xml\n",
      "Image:C:\\Users\\Jaivardhan Singh\\TFODCourse\\Tensorflow\\workspace\\images\\collectedimages\\LiveLong\\LiveLong.a50399ac-19f1-11ed-af86-ccd9ac47bde5.jpg -> Annotation:C:/Users/Jaivardhan Singh/TFODCourse/Tensorflow/workspace/images/collectedimages/LiveLong\\LiveLong.a50399ac-19f1-11ed-af86-ccd9ac47bde5.xml\n",
      "Image:C:\\Users\\Jaivardhan Singh\\TFODCourse\\Tensorflow\\workspace\\images\\collectedimages\\LiveLong\\LiveLong.a6364416-19f1-11ed-a88b-ccd9ac47bde5.jpg -> Annotation:C:/Users/Jaivardhan Singh/TFODCourse/Tensorflow/workspace/images/collectedimages/LiveLong\\LiveLong.a6364416-19f1-11ed-a88b-ccd9ac47bde5.xml\n",
      "Image:C:\\Users\\Jaivardhan Singh\\TFODCourse\\Tensorflow\\workspace\\images\\collectedimages\\ThumbsDown\\ThumbsDown.3bf6f063-19f1-11ed-a327-ccd9ac47bde5.jpg -> Annotation:C:/Users/Jaivardhan Singh/TFODCourse/Tensorflow/workspace/images/collectedimages/ThumbsDown\\ThumbsDown.3bf6f063-19f1-11ed-a327-ccd9ac47bde5.xml\n",
      "Image:C:\\Users\\Jaivardhan Singh\\TFODCourse\\Tensorflow\\workspace\\images\\collectedimages\\ThumbsDown\\ThumbsDown.3d2acf2b-19f1-11ed-81cd-ccd9ac47bde5.jpg -> Annotation:C:/Users/Jaivardhan Singh/TFODCourse/Tensorflow/workspace/images/collectedimages/ThumbsDown\\ThumbsDown.3d2acf2b-19f1-11ed-81cd-ccd9ac47bde5.xml\n",
      "Image:C:\\Users\\Jaivardhan Singh\\TFODCourse\\Tensorflow\\workspace\\images\\collectedimages\\ThumbsDown\\ThumbsDown.3e5fe7f6-19f1-11ed-b533-ccd9ac47bde5.jpg -> Annotation:C:/Users/Jaivardhan Singh/TFODCourse/Tensorflow/workspace/images/collectedimages/ThumbsDown\\ThumbsDown.3e5fe7f6-19f1-11ed-b533-ccd9ac47bde5.xml\n",
      "Image:C:\\Users\\Jaivardhan Singh\\TFODCourse\\Tensorflow\\workspace\\images\\collectedimages\\ThumbsDown\\ThumbsDown.3f9635f9-19f1-11ed-bec7-ccd9ac47bde5.jpg -> Annotation:C:/Users/Jaivardhan Singh/TFODCourse/Tensorflow/workspace/images/collectedimages/ThumbsDown\\ThumbsDown.3f9635f9-19f1-11ed-bec7-ccd9ac47bde5.xml\n",
      "Image:C:\\Users\\Jaivardhan Singh\\TFODCourse\\Tensorflow\\workspace\\images\\collectedimages\\ThumbsDown\\ThumbsDown.4a6b55ef-19f1-11ed-a6b0-ccd9ac47bde5.jpg -> Annotation:C:/Users/Jaivardhan Singh/TFODCourse/Tensorflow/workspace/images/collectedimages/ThumbsDown\\ThumbsDown.4a6b55ef-19f1-11ed-a6b0-ccd9ac47bde5.xml\n",
      "Image:C:\\Users\\Jaivardhan Singh\\TFODCourse\\Tensorflow\\workspace\\images\\collectedimages\\ThumbsDown\\ThumbsDown.4ba27c95-19f1-11ed-b4ec-ccd9ac47bde5.jpg -> Annotation:C:/Users/Jaivardhan Singh/TFODCourse/Tensorflow/workspace/images/collectedimages/ThumbsDown\\ThumbsDown.4ba27c95-19f1-11ed-b4ec-ccd9ac47bde5.xml\n",
      "Image:C:\\Users\\Jaivardhan Singh\\TFODCourse\\Tensorflow\\workspace\\images\\collectedimages\\ThumbsDown\\ThumbsDown.4cd8291e-19f1-11ed-9312-ccd9ac47bde5.jpg -> Annotation:C:/Users/Jaivardhan Singh/TFODCourse/Tensorflow/workspace/images/collectedimages/ThumbsDown\\ThumbsDown.4cd8291e-19f1-11ed-9312-ccd9ac47bde5.xml\n",
      "Image:C:\\Users\\Jaivardhan Singh\\TFODCourse\\Tensorflow\\workspace\\images\\collectedimages\\ThumbsDown\\ThumbsDown.4e0ca665-19f1-11ed-a711-ccd9ac47bde5.jpg -> Annotation:C:/Users/Jaivardhan Singh/TFODCourse/Tensorflow/workspace/images/collectedimages/ThumbsDown\\ThumbsDown.4e0ca665-19f1-11ed-a711-ccd9ac47bde5.xml\n",
      "Image:C:\\Users\\Jaivardhan Singh\\TFODCourse\\Tensorflow\\workspace\\images\\collectedimages\\ThumbsDown\\ThumbsDown.4f40e0f5-19f1-11ed-9dfb-ccd9ac47bde5.jpg -> Annotation:C:/Users/Jaivardhan Singh/TFODCourse/Tensorflow/workspace/images/collectedimages/ThumbsDown\\ThumbsDown.4f40e0f5-19f1-11ed-9dfb-ccd9ac47bde5.xml\n",
      "Image:C:\\Users\\Jaivardhan Singh\\TFODCourse\\Tensorflow\\workspace\\images\\collectedimages\\ThumbsDown\\ThumbsDown.40c988b6-19f1-11ed-9563-ccd9ac47bde5.jpg -> Annotation:C:/Users/Jaivardhan Singh/TFODCourse/Tensorflow/workspace/images/collectedimages/ThumbsDown\\ThumbsDown.40c988b6-19f1-11ed-9563-ccd9ac47bde5.xml\n",
      "Image:C:\\Users\\Jaivardhan Singh\\TFODCourse\\Tensorflow\\workspace\\images\\collectedimages\\ThumbsDown\\ThumbsDown.41fed9c7-19f1-11ed-a9c0-ccd9ac47bde5.jpg -> Annotation:C:/Users/Jaivardhan Singh/TFODCourse/Tensorflow/workspace/images/collectedimages/ThumbsDown\\ThumbsDown.41fed9c7-19f1-11ed-a9c0-ccd9ac47bde5.xml\n",
      "Image:C:\\Users\\Jaivardhan Singh\\TFODCourse\\Tensorflow\\workspace\\images\\collectedimages\\ThumbsDown\\ThumbsDown.46cda852-19f1-11ed-b947-ccd9ac47bde5.jpg -> Annotation:C:/Users/Jaivardhan Singh/TFODCourse/Tensorflow/workspace/images/collectedimages/ThumbsDown\\ThumbsDown.46cda852-19f1-11ed-b947-ccd9ac47bde5.xml\n",
      "Image:C:\\Users\\Jaivardhan Singh\\TFODCourse\\Tensorflow\\workspace\\images\\collectedimages\\ThumbsDown\\ThumbsDown.51a8e6f0-19f1-11ed-aafc-ccd9ac47bde5.jpg -> Annotation:C:/Users/Jaivardhan Singh/TFODCourse/Tensorflow/workspace/images/collectedimages/ThumbsDown\\ThumbsDown.51a8e6f0-19f1-11ed-aafc-ccd9ac47bde5.xml\n",
      "Image:C:\\Users\\Jaivardhan Singh\\TFODCourse\\Tensorflow\\workspace\\images\\collectedimages\\ThumbsDown\\ThumbsDown.459ad415-19f1-11ed-ac20-ccd9ac47bde5.jpg -> Annotation:C:/Users/Jaivardhan Singh/TFODCourse/Tensorflow/workspace/images/collectedimages/ThumbsDown\\ThumbsDown.459ad415-19f1-11ed-ac20-ccd9ac47bde5.xml\n",
      "Image:C:\\Users\\Jaivardhan Singh\\TFODCourse\\Tensorflow\\workspace\\images\\collectedimages\\ThumbsDown\\ThumbsDown.4465fc6a-19f1-11ed-bb10-ccd9ac47bde5.jpg -> Annotation:C:/Users/Jaivardhan Singh/TFODCourse/Tensorflow/workspace/images/collectedimages/ThumbsDown\\ThumbsDown.4465fc6a-19f1-11ed-bb10-ccd9ac47bde5.xml\n",
      "Image:C:\\Users\\Jaivardhan Singh\\TFODCourse\\Tensorflow\\workspace\\images\\collectedimages\\ThumbsDown\\ThumbsDown.4938ce67-19f1-11ed-b380-ccd9ac47bde5.jpg -> Annotation:C:/Users/Jaivardhan Singh/TFODCourse/Tensorflow/workspace/images/collectedimages/ThumbsDown\\ThumbsDown.4938ce67-19f1-11ed-b380-ccd9ac47bde5.xml\n",
      "Image:C:\\Users\\Jaivardhan Singh\\TFODCourse\\Tensorflow\\workspace\\images\\collectedimages\\ThumbsDown\\ThumbsDown.48029dec-19f1-11ed-80c3-ccd9ac47bde5.jpg -> Annotation:C:/Users/Jaivardhan Singh/TFODCourse/Tensorflow/workspace/images/collectedimages/ThumbsDown\\ThumbsDown.48029dec-19f1-11ed-80c3-ccd9ac47bde5.xml\n",
      "Image:C:\\Users\\Jaivardhan Singh\\TFODCourse\\Tensorflow\\workspace\\images\\collectedimages\\ThumbsDown\\ThumbsDown.433437c4-19f1-11ed-8fbf-ccd9ac47bde5.jpg -> Annotation:C:/Users/Jaivardhan Singh/TFODCourse/Tensorflow/workspace/images/collectedimages/ThumbsDown\\ThumbsDown.433437c4-19f1-11ed-8fbf-ccd9ac47bde5.xml\n",
      "Image:C:\\Users\\Jaivardhan Singh\\TFODCourse\\Tensorflow\\workspace\\images\\collectedimages\\ThumbsDown\\ThumbsDown.507394a0-19f1-11ed-aac3-ccd9ac47bde5.jpg -> Annotation:C:/Users/Jaivardhan Singh/TFODCourse/Tensorflow/workspace/images/collectedimages/ThumbsDown\\ThumbsDown.507394a0-19f1-11ed-aac3-ccd9ac47bde5.xml\n",
      "Image:C:\\Users\\Jaivardhan Singh\\TFODCourse\\Tensorflow\\workspace\\images\\collectedimages\\ThumbsUp\\ThumbsUp.1a0c7351-19f1-11ed-a07d-ccd9ac47bde5.jpg -> Annotation:C:/Users/Jaivardhan Singh/TFODCourse/Tensorflow/workspace/images/collectedimages/ThumbsUp\\ThumbsUp.1a0c7351-19f1-11ed-a07d-ccd9ac47bde5.xml\n",
      "Image:C:\\Users\\Jaivardhan Singh\\TFODCourse\\Tensorflow\\workspace\\images\\collectedimages\\ThumbsUp\\ThumbsUp.1b42051e-19f1-11ed-a3cd-ccd9ac47bde5.jpg -> Annotation:C:/Users/Jaivardhan Singh/TFODCourse/Tensorflow/workspace/images/collectedimages/ThumbsUp\\ThumbsUp.1b42051e-19f1-11ed-a3cd-ccd9ac47bde5.xml\n",
      "Image:C:\\Users\\Jaivardhan Singh\\TFODCourse\\Tensorflow\\workspace\\images\\collectedimages\\ThumbsUp\\ThumbsUp.1c7522cb-19f1-11ed-b5b3-ccd9ac47bde5.jpg -> Annotation:C:/Users/Jaivardhan Singh/TFODCourse/Tensorflow/workspace/images/collectedimages/ThumbsUp\\ThumbsUp.1c7522cb-19f1-11ed-b5b3-ccd9ac47bde5.xml\n",
      "Image:C:\\Users\\Jaivardhan Singh\\TFODCourse\\Tensorflow\\workspace\\images\\collectedimages\\ThumbsUp\\ThumbsUp.1edc0044-19f1-11ed-820b-ccd9ac47bde5.jpg -> Annotation:C:/Users/Jaivardhan Singh/TFODCourse/Tensorflow/workspace/images/collectedimages/ThumbsUp\\ThumbsUp.1edc0044-19f1-11ed-820b-ccd9ac47bde5.xml\n",
      "Image:C:\\Users\\Jaivardhan Singh\\TFODCourse\\Tensorflow\\workspace\\images\\collectedimages\\ThumbsUp\\ThumbsUp.11a08576-19f1-11ed-8428-ccd9ac47bde5.jpg -> Annotation:C:/Users/Jaivardhan Singh/TFODCourse/Tensorflow/workspace/images/collectedimages/ThumbsUp\\ThumbsUp.11a08576-19f1-11ed-8428-ccd9ac47bde5.xml\n",
      "Image:C:\\Users\\Jaivardhan Singh\\TFODCourse\\Tensorflow\\workspace\\images\\collectedimages\\ThumbsUp\\ThumbsUp.12d37a54-19f1-11ed-a8fd-ccd9ac47bde5.jpg -> Annotation:C:/Users/Jaivardhan Singh/TFODCourse/Tensorflow/workspace/images/collectedimages/ThumbsUp\\ThumbsUp.12d37a54-19f1-11ed-a8fd-ccd9ac47bde5.xml\n",
      "Image:C:\\Users\\Jaivardhan Singh\\TFODCourse\\Tensorflow\\workspace\\images\\collectedimages\\ThumbsUp\\ThumbsUp.17a3e631-19f1-11ed-ae6c-ccd9ac47bde5.jpg -> Annotation:C:/Users/Jaivardhan Singh/TFODCourse/Tensorflow/workspace/images/collectedimages/ThumbsUp\\ThumbsUp.17a3e631-19f1-11ed-ae6c-ccd9ac47bde5.xml\n",
      "Image:C:\\Users\\Jaivardhan Singh\\TFODCourse\\Tensorflow\\workspace\\images\\collectedimages\\ThumbsUp\\ThumbsUp.18d631fb-19f1-11ed-b8af-ccd9ac47bde5.jpg -> Annotation:C:/Users/Jaivardhan Singh/TFODCourse/Tensorflow/workspace/images/collectedimages/ThumbsUp\\ThumbsUp.18d631fb-19f1-11ed-b8af-ccd9ac47bde5.xml\n",
      "Image:C:\\Users\\Jaivardhan Singh\\TFODCourse\\Tensorflow\\workspace\\images\\collectedimages\\ThumbsUp\\ThumbsUp.23adc5b6-19f1-11ed-a5bb-ccd9ac47bde5.jpg -> Annotation:C:/Users/Jaivardhan Singh/TFODCourse/Tensorflow/workspace/images/collectedimages/ThumbsUp\\ThumbsUp.23adc5b6-19f1-11ed-a5bb-ccd9ac47bde5.xml\n",
      "Image:C:\\Users\\Jaivardhan Singh\\TFODCourse\\Tensorflow\\workspace\\images\\collectedimages\\ThumbsUp\\ThumbsUp.24e3e31a-19f1-11ed-81a5-ccd9ac47bde5.jpg -> Annotation:C:/Users/Jaivardhan Singh/TFODCourse/Tensorflow/workspace/images/collectedimages/ThumbsUp\\ThumbsUp.24e3e31a-19f1-11ed-81a5-ccd9ac47bde5.xml\n",
      "Image:C:\\Users\\Jaivardhan Singh\\TFODCourse\\Tensorflow\\workspace\\images\\collectedimages\\ThumbsUp\\ThumbsUp.166eab03-19f1-11ed-98bf-ccd9ac47bde5.jpg -> Annotation:C:/Users/Jaivardhan Singh/TFODCourse/Tensorflow/workspace/images/collectedimages/ThumbsUp\\ThumbsUp.166eab03-19f1-11ed-98bf-ccd9ac47bde5.xml\n",
      "Image:C:\\Users\\Jaivardhan Singh\\TFODCourse\\Tensorflow\\workspace\\images\\collectedimages\\ThumbsUp\\ThumbsUp.166eab03-19f1-11ed-98bf-ccd9ac47bde5.jpg -> Annotation:C:/Users/Jaivardhan Singh/TFODCourse/Tensorflow/workspace/images/collectedimages/ThumbsUp\\ThumbsUp.166eab03-19f1-11ed-98bf-ccd9ac47bde5.xml\n",
      "Image:C:\\Users\\Jaivardhan Singh\\TFODCourse\\Tensorflow\\workspace\\images\\collectedimages\\ThumbsUp\\ThumbsUp.166eab03-19f1-11ed-98bf-ccd9ac47bde5.jpg -> Annotation:C:/Users/Jaivardhan Singh/TFODCourse/Tensorflow/workspace/images/collectedimages/ThumbsUp\\ThumbsUp.166eab03-19f1-11ed-98bf-ccd9ac47bde5.xml\n",
      "Image:C:\\Users\\Jaivardhan Singh\\TFODCourse\\Tensorflow\\workspace\\images\\collectedimages\\ThumbsUp\\ThumbsUp.166eab03-19f1-11ed-98bf-ccd9ac47bde5.jpg -> Annotation:C:/Users/Jaivardhan Singh/TFODCourse/Tensorflow/workspace/images/collectedimages/ThumbsUp\\ThumbsUp.166eab03-19f1-11ed-98bf-ccd9ac47bde5.xml\n",
      "Image:C:\\Users\\Jaivardhan Singh\\TFODCourse\\Tensorflow\\workspace\\images\\collectedimages\\ThumbsUp\\ThumbsUp.227ba8fc-19f1-11ed-8352-ccd9ac47bde5.jpg -> Annotation:C:/Users/Jaivardhan Singh/TFODCourse/Tensorflow/workspace/images/collectedimages/ThumbsUp\\ThumbsUp.227ba8fc-19f1-11ed-8352-ccd9ac47bde5.xml\n",
      "Image:C:\\Users\\Jaivardhan Singh\\TFODCourse\\Tensorflow\\workspace\\images\\collectedimages\\ThumbsUp\\ThumbsUp.274ba0f3-19f1-11ed-8a4d-ccd9ac47bde5.jpg -> Annotation:C:/Users/Jaivardhan Singh/TFODCourse/Tensorflow/workspace/images/collectedimages/ThumbsUp\\ThumbsUp.274ba0f3-19f1-11ed-8a4d-ccd9ac47bde5.xml\n",
      "Image:C:\\Users\\Jaivardhan Singh\\TFODCourse\\Tensorflow\\workspace\\images\\collectedimages\\ThumbsUp\\ThumbsUp.2010da25-19f1-11ed-b516-ccd9ac47bde5.jpg -> Annotation:C:/Users/Jaivardhan Singh/TFODCourse/Tensorflow/workspace/images/collectedimages/ThumbsUp\\ThumbsUp.2010da25-19f1-11ed-b516-ccd9ac47bde5.xml\n",
      "Image:C:\\Users\\Jaivardhan Singh\\TFODCourse\\Tensorflow\\workspace\\images\\collectedimages\\ThumbsUp\\ThumbsUp.2146b541-19f1-11ed-b82b-ccd9ac47bde5.jpg -> Annotation:C:/Users/Jaivardhan Singh/TFODCourse/Tensorflow/workspace/images/collectedimages/ThumbsUp\\ThumbsUp.2146b541-19f1-11ed-b82b-ccd9ac47bde5.xml\n",
      "Image:C:\\Users\\Jaivardhan Singh\\TFODCourse\\Tensorflow\\workspace\\images\\collectedimages\\ThumbsUp\\ThumbsUp.2618e8ec-19f1-11ed-9faf-ccd9ac47bde5.jpg -> Annotation:C:/Users/Jaivardhan Singh/TFODCourse/Tensorflow/workspace/images/collectedimages/ThumbsUp\\ThumbsUp.2618e8ec-19f1-11ed-9faf-ccd9ac47bde5.xml\n",
      "Image:C:\\Users\\Jaivardhan Singh\\TFODCourse\\Tensorflow\\workspace\\images\\collectedimages\\ThumbsUp\\ThumbsUp.15398ffb-19f1-11ed-82ba-ccd9ac47bde5.jpg -> Annotation:C:/Users/Jaivardhan Singh/TFODCourse/Tensorflow/workspace/images/collectedimages/ThumbsUp\\ThumbsUp.15398ffb-19f1-11ed-82ba-ccd9ac47bde5.xml\n",
      "Image:C:\\Users\\Jaivardhan Singh\\TFODCourse\\Tensorflow\\workspace\\images\\collectedimages\\ThumbsUp\\ThumbsUp.140795a8-19f1-11ed-bdf3-ccd9ac47bde5.jpg -> Annotation:C:/Users/Jaivardhan Singh/TFODCourse/Tensorflow/workspace/images/collectedimages/ThumbsUp\\ThumbsUp.140795a8-19f1-11ed-bdf3-ccd9ac47bde5.xml\n",
      "Image:C:\\Users\\Jaivardhan Singh\\TFODCourse\\Tensorflow\\workspace\\images\\collectedimages\\Wow\\Wow.6b003138-19f1-11ed-ba6d-ccd9ac47bde5.jpg -> Annotation:C:/Users/Jaivardhan Singh/TFODCourse/Tensorflow/workspace/images/collectedimages/Wow\\Wow.6b003138-19f1-11ed-ba6d-ccd9ac47bde5.xml\n",
      "Image:C:\\Users\\Jaivardhan Singh\\TFODCourse\\Tensorflow\\workspace\\images\\collectedimages\\Wow\\Wow.6c348099-19f1-11ed-a22a-ccd9ac47bde5.jpg -> Annotation:C:/Users/Jaivardhan Singh/TFODCourse/Tensorflow/workspace/images/collectedimages/Wow\\Wow.6c348099-19f1-11ed-a22a-ccd9ac47bde5.xml\n",
      "Image:C:\\Users\\Jaivardhan Singh\\TFODCourse\\Tensorflow\\workspace\\images\\collectedimages\\Wow\\Wow.6d687de8-19f1-11ed-9164-ccd9ac47bde5.jpg -> Annotation:C:/Users/Jaivardhan Singh/TFODCourse/Tensorflow/workspace/images/collectedimages/Wow\\Wow.6d687de8-19f1-11ed-9164-ccd9ac47bde5.xml\n",
      "Image:C:\\Users\\Jaivardhan Singh\\TFODCourse\\Tensorflow\\workspace\\images\\collectedimages\\Wow\\Wow.6e9ee1ba-19f1-11ed-8d44-ccd9ac47bde5.jpg -> Annotation:C:/Users/Jaivardhan Singh/TFODCourse/Tensorflow/workspace/images/collectedimages/Wow\\Wow.6e9ee1ba-19f1-11ed-8d44-ccd9ac47bde5.xml\n",
      "Image:C:\\Users\\Jaivardhan Singh\\TFODCourse\\Tensorflow\\workspace\\images\\collectedimages\\Wow\\Wow.6fd4a2ad-19f1-11ed-abd9-ccd9ac47bde5.jpg -> Annotation:C:/Users/Jaivardhan Singh/TFODCourse/Tensorflow/workspace/images/collectedimages/Wow\\Wow.6fd4a2ad-19f1-11ed-abd9-ccd9ac47bde5.xml\n",
      "Image:C:\\Users\\Jaivardhan Singh\\TFODCourse\\Tensorflow\\workspace\\images\\collectedimages\\Wow\\Wow.7aaeefa1-19f1-11ed-9b07-ccd9ac47bde5.jpg -> Annotation:C:/Users/Jaivardhan Singh/TFODCourse/Tensorflow/workspace/images/collectedimages/Wow\\Wow.7aaeefa1-19f1-11ed-9b07-ccd9ac47bde5.xml\n",
      "Image:C:\\Users\\Jaivardhan Singh\\TFODCourse\\Tensorflow\\workspace\\images\\collectedimages\\Wow\\Wow.7be52178-19f1-11ed-8eeb-ccd9ac47bde5.jpg -> Annotation:C:/Users/Jaivardhan Singh/TFODCourse/Tensorflow/workspace/images/collectedimages/Wow\\Wow.7be52178-19f1-11ed-8eeb-ccd9ac47bde5.xml\n",
      "Image:C:\\Users\\Jaivardhan Singh\\TFODCourse\\Tensorflow\\workspace\\images\\collectedimages\\Wow\\Wow.69ca75ed-19f1-11ed-90b4-ccd9ac47bde5.jpg -> Annotation:C:/Users/Jaivardhan Singh/TFODCourse/Tensorflow/workspace/images/collectedimages/Wow\\Wow.69ca75ed-19f1-11ed-90b4-ccd9ac47bde5.xml\n",
      "Image:C:\\Users\\Jaivardhan Singh\\TFODCourse\\Tensorflow\\workspace\\images\\collectedimages\\Wow\\Wow.74a85dc0-19f1-11ed-8c9e-ccd9ac47bde5.jpg -> Annotation:C:/Users/Jaivardhan Singh/TFODCourse/Tensorflow/workspace/images/collectedimages/Wow\\Wow.74a85dc0-19f1-11ed-8c9e-ccd9ac47bde5.xml\n",
      "Image:C:\\Users\\Jaivardhan Singh\\TFODCourse\\Tensorflow\\workspace\\images\\collectedimages\\Wow\\Wow.75db291f-19f1-11ed-941f-ccd9ac47bde5.jpg -> Annotation:C:/Users/Jaivardhan Singh/TFODCourse/Tensorflow/workspace/images/collectedimages/Wow\\Wow.75db291f-19f1-11ed-941f-ccd9ac47bde5.xml\n",
      "Image:C:\\Users\\Jaivardhan Singh\\TFODCourse\\Tensorflow\\workspace\\images\\collectedimages\\Wow\\Wow.662cc183-19f1-11ed-905a-ccd9ac47bde5.jpg -> Annotation:C:/Users/Jaivardhan Singh/TFODCourse/Tensorflow/workspace/images/collectedimages/Wow\\Wow.662cc183-19f1-11ed-905a-ccd9ac47bde5.xml\n",
      "Image:C:\\Users\\Jaivardhan Singh\\TFODCourse\\Tensorflow\\workspace\\images\\collectedimages\\Wow\\Wow.723ec7ab-19f1-11ed-96a5-ccd9ac47bde5.jpg -> Annotation:C:/Users/Jaivardhan Singh/TFODCourse/Tensorflow/workspace/images/collectedimages/Wow\\Wow.723ec7ab-19f1-11ed-96a5-ccd9ac47bde5.xml\n",
      "Image:C:\\Users\\Jaivardhan Singh\\TFODCourse\\Tensorflow\\workspace\\images\\collectedimages\\Wow\\Wow.797a427e-19f1-11ed-b4cb-ccd9ac47bde5.jpg -> Annotation:C:/Users/Jaivardhan Singh/TFODCourse/Tensorflow/workspace/images/collectedimages/Wow\\Wow.797a427e-19f1-11ed-b4cb-ccd9ac47bde5.xml\n",
      "Image:C:\\Users\\Jaivardhan Singh\\TFODCourse\\Tensorflow\\workspace\\images\\collectedimages\\Wow\\Wow.7108b59e-19f1-11ed-b54e-ccd9ac47bde5.jpg -> Annotation:C:/Users/Jaivardhan Singh/TFODCourse/Tensorflow/workspace/images/collectedimages/Wow\\Wow.7108b59e-19f1-11ed-b54e-ccd9ac47bde5.xml\n",
      "Image:C:\\Users\\Jaivardhan Singh\\TFODCourse\\Tensorflow\\workspace\\images\\collectedimages\\Wow\\Wow.73730c94-19f1-11ed-a099-ccd9ac47bde5.jpg -> Annotation:C:/Users/Jaivardhan Singh/TFODCourse/Tensorflow/workspace/images/collectedimages/Wow\\Wow.73730c94-19f1-11ed-a099-ccd9ac47bde5.xml\n",
      "Image:C:\\Users\\Jaivardhan Singh\\TFODCourse\\Tensorflow\\workspace\\images\\collectedimages\\Wow\\Wow.77103ee0-19f1-11ed-ac99-ccd9ac47bde5.jpg -> Annotation:C:/Users/Jaivardhan Singh/TFODCourse/Tensorflow/workspace/images/collectedimages/Wow\\Wow.77103ee0-19f1-11ed-ac99-ccd9ac47bde5.xml\n",
      "Image:C:\\Users\\Jaivardhan Singh\\TFODCourse\\Tensorflow\\workspace\\images\\collectedimages\\Wow\\Wow.78467d9c-19f1-11ed-bf16-ccd9ac47bde5.jpg -> Annotation:C:/Users/Jaivardhan Singh/TFODCourse/Tensorflow/workspace/images/collectedimages/Wow\\Wow.78467d9c-19f1-11ed-bf16-ccd9ac47bde5.xml\n",
      "Image:C:\\Users\\Jaivardhan Singh\\TFODCourse\\Tensorflow\\workspace\\images\\collectedimages\\Wow\\Wow.676019ef-19f1-11ed-a3d1-ccd9ac47bde5.jpg -> Annotation:C:/Users/Jaivardhan Singh/TFODCourse/Tensorflow/workspace/images/collectedimages/Wow\\Wow.676019ef-19f1-11ed-a3d1-ccd9ac47bde5.xml\n",
      "Image:C:\\Users\\Jaivardhan Singh\\TFODCourse\\Tensorflow\\workspace\\images\\collectedimages\\Wow\\Wow.689685ac-19f1-11ed-aaff-ccd9ac47bde5.jpg -> Annotation:C:/Users/Jaivardhan Singh/TFODCourse/Tensorflow/workspace/images/collectedimages/Wow\\Wow.689685ac-19f1-11ed-aaff-ccd9ac47bde5.xml\n"
     ]
    }
   ],
   "source": [
    "!cd {LABELIMG_PATH} && python labelImg.py"
   ]
  },
  {
   "cell_type": "markdown",
   "metadata": {},
   "source": [
    "# 6. Move them into a Training and Testing Partition"
   ]
  },
  {
   "cell_type": "code",
   "execution_count": 20,
   "metadata": {},
   "outputs": [
    {
     "name": "stdout",
     "output_type": "stream",
     "text": [
      "Collecting libs\n",
      "  Downloading libs-0.0.10-py3-none-any.whl (5.8 kB)\n",
      "Installing collected packages: libs\n",
      "Successfully installed libs-0.0.10\n"
     ]
    }
   ],
   "source": [
    "!pip install libs"
   ]
  },
  {
   "cell_type": "markdown",
   "metadata": {},
   "source": [
    "# OPTIONAL - 7. Compress them for Colab Training"
   ]
  },
  {
   "cell_type": "code",
   "execution_count": 20,
   "metadata": {},
   "outputs": [],
   "source": [
    "TRAIN_PATH = os.path.join('Tensorflow', 'workspace', 'images', 'train')\n",
    "TEST_PATH = os.path.join('Tensorflow', 'workspace', 'images', 'test')\n",
    "ARCHIVE_PATH = os.path.join('Tensorflow', 'workspace', 'images', 'archive.tar.gz')"
   ]
  },
  {
   "cell_type": "code",
   "execution_count": 21,
   "metadata": {},
   "outputs": [],
   "source": [
    "!tar -czf {ARCHIVE_PATH} {TRAIN_PATH} {TEST_PATH}"
   ]
  },
  {
   "cell_type": "code",
   "execution_count": null,
   "metadata": {},
   "outputs": [],
   "source": []
  }
 ],
 "metadata": {
  "kernelspec": {
   "display_name": "tfod",
   "language": "python",
   "name": "tfod"
  },
  "language_info": {
   "codemirror_mode": {
    "name": "ipython",
    "version": 3
   },
   "file_extension": ".py",
   "mimetype": "text/x-python",
   "name": "python",
   "nbconvert_exporter": "python",
   "pygments_lexer": "ipython3",
   "version": "3.9.13"
  }
 },
 "nbformat": 4,
 "nbformat_minor": 2
}
